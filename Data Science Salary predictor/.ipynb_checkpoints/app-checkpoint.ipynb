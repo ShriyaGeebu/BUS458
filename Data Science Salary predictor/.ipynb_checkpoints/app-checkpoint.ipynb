{
 "cells": [
  {
   "cell_type": "code",
   "execution_count": 89,
   "id": "85b53196-42d1-467e-922b-aa2c85d588c4",
   "metadata": {},
   "outputs": [],
   "source": [
    "import pandas as pd\n",
    "from sklearn.model_selection import train_test_split\n",
    "from sklearn.preprocessing import OneHotEncoder, StandardScaler\n",
    "from sklearn.compose import ColumnTransformer\n",
    "from sklearn.pipeline import Pipeline\n",
    "from sklearn.ensemble import RandomForestRegressor"
   ]
  },
  {
   "cell_type": "code",
   "execution_count": 95,
   "id": "8d6ed94d-a4c3-48c1-81f4-1c25170b2f94",
   "metadata": {},
   "outputs": [],
   "source": [
    "def parse_salary(s) -> float:\n",
    "    \"\"\"Convert salary bracket strings to numeric averages.\"\"\"\n",
    "    if not isinstance(s, str):\n",
    "        return None\n",
    "    s = s.strip()\n",
    "    if not s or '?' in s:\n",
    "        return None\n",
    "    if s.startswith('$'):\n",
    "        s = s[1:]\n",
    "    if s.startswith('>'):\n",
    "        val = s[1:].lstrip('$').replace(',', '')\n",
    "        try:\n",
    "            return float(val)\n",
    "        except:\n",
    "            return None\n",
    "    if s.startswith('<'):\n",
    "        val = s[1:].lstrip('$').replace(',', '')\n",
    "        try:\n",
    "            return float(val) / 2\n",
    "        except:\n",
    "            return None\n",
    "    if '-' in s:\n",
    "        try:\n",
    "            low, high = s.split('-')\n",
    "            low_f = float(low.lstrip('$').replace(',', ''))\n",
    "            high_f = float(high.lstrip('$').replace(',', ''))\n",
    "            return (low_f + high_f) / 2\n",
    "        except:\n",
    "            return None\n",
    "    return None\n",
    "\n",
    "def load_data(path: str) -> pd.DataFrame:\n",
    "    \"\"\"Load survey data, clean columns, and parse salary to numeric.\"\"\"\n",
    "    df = pd.read_csv(path, low_memory=False)\n",
    "    df = df[['Q2', 'Q4', 'Q23', 'Q29']].copy()\n",
    "    df.columns = ['AgeGroup', 'Country', 'ExperienceLevel', 'SalaryRaw']\n",
    "    # Remove header/prompt rows and NaNs\n",
    "    df = df[df['AgeGroup'] != 'What is your age (# years)?']\n",
    "    df = df[~df['ExperienceLevel'].str.contains(r'Select the title', na=False)]\n",
    "    df = df[df['SalaryRaw'].notna()]\n",
    "    df = df[~df['SalaryRaw'].str.contains(r'\\?', na=False)]\n",
    "    # Parse salary to numeric\n",
    "    df['Salary'] = df['SalaryRaw'].apply(parse_salary)\n",
    "    return df.dropna(subset=['Salary'])[['AgeGroup', 'Country', 'ExperienceLevel', 'Salary']]\n",
    "\n",
    "def build_model(df: pd.DataFrame):\n",
    "    \"\"\"Train a Random Forest on categorical inputs and return pipeline + R².\"\"\"\n",
    "    X = df[['AgeGroup', 'Country', 'ExperienceLevel']]\n",
    "    y = df['Salary']\n",
    "    preprocessor = ColumnTransformer([\n",
    "    ('cat', OneHotEncoder(handle_unknown='ignore'), \n",
    "     ['AgeGroup', 'Country', 'ExperienceLevel'])\n",
    "])\n",
    "    pipeline = Pipeline([\n",
    "        ('preprocessor', preprocessor),\n",
    "        ('regressor', RandomForestRegressor(n_estimators=100, random_state=42))\n",
    "    ])\n",
    "    X_train, X_test, y_train, y_test = train_test_split(X, y, random_state=42)\n",
    "    pipeline.fit(X_train, y_train)\n",
    "    return pipeline, pipeline.score(X_test, y_test)\n",
    "\n",
    "def predict_salary(model, age_group: str, country: str, exp: str) -> float:\n",
    "    \"\"\"Given trained model and params, return predicted salary.\"\"\"\n",
    "    df_input = pd.DataFrame({\n",
    "        'AgeGroup': [age_group],\n",
    "        'Country': [country],\n",
    "        'ExperienceLevel': [exp]\n",
    "    })\n",
    "    return model.predict(df_input)[0]"
   ]
  },
  {
   "cell_type": "code",
   "execution_count": 97,
   "id": "cf52dbbe-8089-420f-9889-6bdf36cdd3e5",
   "metadata": {},
   "outputs": [
    {
     "name": "stdout",
     "output_type": "stream",
     "text": [
      "Model R² score: 0.20\n",
      "Example prediction for 25-29, India, Data Scientist: $30,558\n"
     ]
    }
   ],
   "source": [
    "file_path = 'kaggle_survey_2022_responses.csv'\n",
    "\n",
    "# 1) Load & clean:\n",
    "df = load_data(file_path)\n",
    "\n",
    "# 2) Train & evaluate:\n",
    "model, score = build_model(df)\n",
    "print(f\"Model R² score: {score:.2f}\")\n",
    "\n",
    "# 3) Example prediction:\n",
    "ag = df['AgeGroup'].mode()[0]\n",
    "co = df['Country'].mode()[0]\n",
    "ex = df['ExperienceLevel'].mode()[0]\n",
    "pred = predict_salary(model, ag, co, ex)\n",
    "print(f\"Example prediction for {ag}, {co}, {ex}: ${pred:,.0f}\")\n"
   ]
  },
  {
   "cell_type": "code",
   "execution_count": null,
   "id": "0b4a37af-af64-48d0-93dc-699d1e19302c",
   "metadata": {},
   "outputs": [],
   "source": []
  }
 ],
 "metadata": {
  "kernelspec": {
   "display_name": "Python 3 (ipykernel)",
   "language": "python",
   "name": "python3"
  },
  "language_info": {
   "codemirror_mode": {
    "name": "ipython",
    "version": 3
   },
   "file_extension": ".py",
   "mimetype": "text/x-python",
   "name": "python",
   "nbconvert_exporter": "python",
   "pygments_lexer": "ipython3",
   "version": "3.12.4"
  }
 },
 "nbformat": 4,
 "nbformat_minor": 5
}
